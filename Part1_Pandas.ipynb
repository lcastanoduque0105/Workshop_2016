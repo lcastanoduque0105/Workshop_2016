{
 "cells": [
  {
   "cell_type": "markdown",
   "metadata": {},
   "source": [
    "### Install instructions \n",
    "\n",
    "\n",
    "    - Navigate to https://www.continuum.io/downloads\n",
    "\n",
    "\n",
    "    - Select your operating system (Windows / OSX / Linux)\n",
    "\n",
    "\n",
    "    - Click on the Python 2.7 version installer (in blue).\n",
    "    - you may select 32-bit or 64-bit, and GUI or command line installer - whichever you prefer. \n",
    "\n",
    "    - If asked for your e-mail, click \"No Thanks\". The download should begin.\n",
    "    The package is around 300MB in size and should take ~5 minutes to download.\n",
    "\n",
    "    - Double-click on the downloaded package, and follow the instructions to install it. Install time should be around 15-20 minutes. "
   ]
  },
  {
   "cell_type": "markdown",
   "metadata": {
    "collapsed": false
   },
   "source": [
    "### Start-up Instructions\n",
    "\n",
    "** Windows ** :  From Start Menu : Click \"Navigator\" -> Jupyter Notebook\n",
    "\n",
    "** OSX ** : From Dock / Sidebar : Click \"Launcher\" -> Jupyter Notebook\n",
    "\n",
    "** OSX / Linux ** : From Terminal : Type 'jupyter notebook'"
   ]
  },
  {
   "cell_type": "markdown",
   "metadata": {},
   "source": [
    "### Can everyone see this page ? If not, please ask for help."
   ]
  },
  {
   "cell_type": "markdown",
   "metadata": {
    "collapsed": true
   },
   "source": [
    "## Outline"
   ]
  },
  {
   "cell_type": "markdown",
   "metadata": {},
   "source": [
    "**2:00 - 2:15** Preliminaries: Setup & introduction\n",
    "* Making sure dependencies are installed\n",
    "\n",
    "**2:15 - 2:20** Navigating Jupyter Notebooks\n",
    "* What is a cell ?\n",
    "    - Running a cell\n",
    "    - Adding and deleting cells\n",
    "    \n",
    "\n",
    "**2:20 - 2:50** Basic Pandas and Data Manipulation\n",
    "* What is a DataFrame ? \n",
    "* Extracting specific rows and columns\n",
    "* Querying based on conditions\n",
    "* Sorting\n",
    "* Practice Exercises\n",
    "\n",
    "**2:50 - 3:00** Intro ML - 5 step procedure of sklearn\n",
    "\n",
    "**3:00 - 3:15** Unsupervised learning example\n",
    "* Clustering walk-through\n",
    "\n",
    "**3:15 - 3:30** Coffee break\n",
    "\n",
    "**3:30 - 5:00** Supervised learning detailed walk-through"
   ]
  },
  {
   "cell_type": "markdown",
   "metadata": {
    "collapsed": true
   },
   "source": [
    "## Workshop introduction  \n",
    "\n",
    "\n",
    "** Jupyter notebook** \n",
    "    - lets you run code in cells, plot data, and share it to create reproducible workflows\n",
    "\n",
    "** Pandas **  \n",
    "    - is a Python library that lets you manipulate data, write queries and functions\n",
    "\n",
    "** scikit-learn ** \n",
    "    - is a library that implements ML algorithms \n",
    "\n",
    "** We will be using Python 2.7**, but everything taught here applies to Python 3.5 as well"
   ]
  },
  {
   "cell_type": "code",
   "execution_count": 1,
   "metadata": {
    "collapsed": true
   },
   "outputs": [],
   "source": [
    "# Enter a cell-scope by hitting \"Enter\"\n",
    "# Come out of a cell-scope by hitting \"Esc\""
   ]
  },
  {
   "cell_type": "markdown",
   "metadata": {
    "collapsed": true
   },
   "source": [
    "##### Cells can be Code or Markdown"
   ]
  },
  {
   "cell_type": "code",
   "execution_count": 2,
   "metadata": {
    "collapsed": false
   },
   "outputs": [
    {
     "name": "stdout",
     "output_type": "stream",
     "text": [
      "Hello\n"
     ]
    }
   ],
   "source": [
    "# This is a code cell\n",
    "# Run a cell by pressing SHIFT + ENTER\n",
    "print \"Hello\""
   ]
  },
  {
   "cell_type": "markdown",
   "metadata": {
    "collapsed": true
   },
   "source": [
    "#### Create a new cell by hitting the \"B\" or \"A\" key\n",
    "#### Delete a cell by hitting \"D\" twice in succession (be careful, though!)"
   ]
  },
  {
   "cell_type": "code",
   "execution_count": 3,
   "metadata": {
    "collapsed": true
   },
   "outputs": [],
   "source": [
    "# Practice Space 1 "
   ]
  },
  {
   "cell_type": "code",
   "execution_count": 4,
   "metadata": {
    "collapsed": true
   },
   "outputs": [],
   "source": [
    "# Practice Space 2 "
   ]
  },
  {
   "cell_type": "markdown",
   "metadata": {
    "collapsed": true
   },
   "source": [
    " What is a **module** ? \n",
    "     - It's like a library / package in R. \n",
    "     - A collection of code meant for a specific purpose\n",
    "     - Pandas, Sklearn etc. "
   ]
  },
  {
   "cell_type": "code",
   "execution_count": 5,
   "metadata": {
    "collapsed": true
   },
   "outputs": [],
   "source": [
    "# See if the required modules can be imported\n",
    "import pandas as pd\n",
    "import numpy as np\n",
    "import sklearn as test_import_skl\n"
   ]
  },
  {
   "cell_type": "code",
   "execution_count": 7,
   "metadata": {
    "collapsed": false
   },
   "outputs": [],
   "source": [
    "# We might need to visualize stuff, so make sure matplotlib is up and running\n",
    "# ignore any warnings\n",
    "%matplotlib inline \n",
    "import matplotlib.pyplot as plt\n",
    "import seaborn as sns\n",
    "sns.set()"
   ]
  },
  {
   "cell_type": "markdown",
   "metadata": {
    "collapsed": true
   },
   "source": [
    "** If no errors **\n",
    "    - Then we are good to go !\n",
    "\n",
    "** If errors ** \n",
    "    - Please ask for help from volunteers. "
   ]
  },
  {
   "cell_type": "markdown",
   "metadata": {
    "collapsed": true
   },
   "source": [
    "## Pandas introduction \n",
    "\n",
    "** Why are we doing Pandas ? **  \n",
    "    - Often we will have a dataset that we need to clean and process.\n",
    "    \n",
    "\n"
   ]
  },
  {
   "cell_type": "markdown",
   "metadata": {},
   "source": [
    "## Exercise \n",
    "    - Aim : To get started and get comfortable with this coding environment\n",
    "    \n",
    "** Now is the time to troubleshoot and ask us questions! **\n"
   ]
  },
  {
   "cell_type": "markdown",
   "metadata": {},
   "source": [
    "## Let's get started \n",
    "\n",
    "### Getting Data\n",
    "\n",
    "- Simplest : from your **clipboard**\n",
    "- Also, from a **URL**\n",
    "- Most often, from a ** CSV / tab-delimited ** file\n",
    "\n",
    "### Storing Data \n",
    "\n",
    "- ** A DataFrame ** is a table of rows and columns that stores data\n",
    "\n",
    "\n",
    "### For this workshop :\n",
    "- We have IMDB data in the movies.csv file"
   ]
  },
  {
   "cell_type": "code",
   "execution_count": 8,
   "metadata": {
    "collapsed": false
   },
   "outputs": [],
   "source": [
    "# Get data from a file\n",
    "movies = pd.DataFrame.from_csv('movies.csv', index_col=None)"
   ]
  },
  {
   "cell_type": "code",
   "execution_count": 9,
   "metadata": {
    "collapsed": false
   },
   "outputs": [
    {
     "data": {
      "text/html": [
       "<div>\n",
       "<table border=\"1\" class=\"dataframe\">\n",
       "  <thead>\n",
       "    <tr style=\"text-align: right;\">\n",
       "      <th></th>\n",
       "      <th>title</th>\n",
       "      <th>year</th>\n",
       "    </tr>\n",
       "  </thead>\n",
       "  <tbody>\n",
       "    <tr>\n",
       "      <th>0</th>\n",
       "      <td>The Rising Son</td>\n",
       "      <td>1990</td>\n",
       "    </tr>\n",
       "    <tr>\n",
       "      <th>1</th>\n",
       "      <td>Ashes of Kukulcan</td>\n",
       "      <td>2016</td>\n",
       "    </tr>\n",
       "    <tr>\n",
       "      <th>2</th>\n",
       "      <td>The Thousand Plane Raid</td>\n",
       "      <td>1969</td>\n",
       "    </tr>\n",
       "    <tr>\n",
       "      <th>3</th>\n",
       "      <td>Crucea de piatra</td>\n",
       "      <td>1993</td>\n",
       "    </tr>\n",
       "    <tr>\n",
       "      <th>4</th>\n",
       "      <td>Country</td>\n",
       "      <td>2000</td>\n",
       "    </tr>\n",
       "  </tbody>\n",
       "</table>\n",
       "</div>"
      ],
      "text/plain": [
       "                     title  year\n",
       "0           The Rising Son  1990\n",
       "1        Ashes of Kukulcan  2016\n",
       "2  The Thousand Plane Raid  1969\n",
       "3         Crucea de piatra  1993\n",
       "4                  Country  2000"
      ]
     },
     "execution_count": 9,
     "metadata": {},
     "output_type": "execute_result"
    }
   ],
   "source": [
    "# Use head() to look at it \n",
    "movies.head()"
   ]
  },
  {
   "cell_type": "markdown",
   "metadata": {
    "collapsed": true
   },
   "source": [
    "### Help and hints from the cell\n",
    "\n",
    "- Cells are your friends, use their help !\n",
    "\n",
    "** Use the TAB key ** for Autocomplete\n",
    "\n",
    "** Use SHIFT + TAB ** to look at Information about a command"
   ]
  },
  {
   "cell_type": "code",
   "execution_count": 10,
   "metadata": {
    "collapsed": false
   },
   "outputs": [
    {
     "data": {
      "text/html": [
       "<div>\n",
       "<table border=\"1\" class=\"dataframe\">\n",
       "  <thead>\n",
       "    <tr style=\"text-align: right;\">\n",
       "      <th></th>\n",
       "      <th>title</th>\n",
       "      <th>year</th>\n",
       "    </tr>\n",
       "  </thead>\n",
       "  <tbody>\n",
       "    <tr>\n",
       "      <th>215389</th>\n",
       "      <td>Nobody Waved Good-bye</td>\n",
       "      <td>1964</td>\n",
       "    </tr>\n",
       "    <tr>\n",
       "      <th>215390</th>\n",
       "      <td>E yue</td>\n",
       "      <td>2005</td>\n",
       "    </tr>\n",
       "    <tr>\n",
       "      <th>215391</th>\n",
       "      <td>Lakota Girls</td>\n",
       "      <td>2015</td>\n",
       "    </tr>\n",
       "    <tr>\n",
       "      <th>215392</th>\n",
       "      <td>Kroniki domowe</td>\n",
       "      <td>1997</td>\n",
       "    </tr>\n",
       "    <tr>\n",
       "      <th>215393</th>\n",
       "      <td>The Sting II</td>\n",
       "      <td>1983</td>\n",
       "    </tr>\n",
       "  </tbody>\n",
       "</table>\n",
       "</div>"
      ],
      "text/plain": [
       "                        title  year\n",
       "215389  Nobody Waved Good-bye  1964\n",
       "215390                  E yue  2005\n",
       "215391           Lakota Girls  2015\n",
       "215392         Kroniki domowe  1997\n",
       "215393           The Sting II  1983"
      ]
     },
     "execution_count": 10,
     "metadata": {},
     "output_type": "execute_result"
    }
   ],
   "source": [
    "# Lets try TAB completion and SHIFT+TAB with the tail() function\n",
    "movies.tail()"
   ]
  },
  {
   "cell_type": "code",
   "execution_count": 11,
   "metadata": {
    "collapsed": false
   },
   "outputs": [
    {
     "data": {
      "text/plain": [
       "(215394, 2)"
      ]
     },
     "execution_count": 11,
     "metadata": {},
     "output_type": "execute_result"
    }
   ],
   "source": [
    "# Use shape to check rows and columns \n",
    "movies.shape"
   ]
  },
  {
   "cell_type": "code",
   "execution_count": 12,
   "metadata": {
    "collapsed": false
   },
   "outputs": [
    {
     "data": {
      "text/html": [
       "<div>\n",
       "<table border=\"1\" class=\"dataframe\">\n",
       "  <thead>\n",
       "    <tr style=\"text-align: right;\">\n",
       "      <th></th>\n",
       "      <th>year</th>\n",
       "    </tr>\n",
       "  </thead>\n",
       "  <tbody>\n",
       "    <tr>\n",
       "      <th>count</th>\n",
       "      <td>215394.000000</td>\n",
       "    </tr>\n",
       "    <tr>\n",
       "      <th>mean</th>\n",
       "      <td>1984.288300</td>\n",
       "    </tr>\n",
       "    <tr>\n",
       "      <th>std</th>\n",
       "      <td>29.321017</td>\n",
       "    </tr>\n",
       "    <tr>\n",
       "      <th>min</th>\n",
       "      <td>1894.000000</td>\n",
       "    </tr>\n",
       "    <tr>\n",
       "      <th>25%</th>\n",
       "      <td>1965.000000</td>\n",
       "    </tr>\n",
       "    <tr>\n",
       "      <th>50%</th>\n",
       "      <td>1993.000000</td>\n",
       "    </tr>\n",
       "    <tr>\n",
       "      <th>75%</th>\n",
       "      <td>2010.000000</td>\n",
       "    </tr>\n",
       "    <tr>\n",
       "      <th>max</th>\n",
       "      <td>2024.000000</td>\n",
       "    </tr>\n",
       "  </tbody>\n",
       "</table>\n",
       "</div>"
      ],
      "text/plain": [
       "                year\n",
       "count  215394.000000\n",
       "mean     1984.288300\n",
       "std        29.321017\n",
       "min      1894.000000\n",
       "25%      1965.000000\n",
       "50%      1993.000000\n",
       "75%      2010.000000\n",
       "max      2024.000000"
      ]
     },
     "execution_count": 12,
     "metadata": {},
     "output_type": "execute_result"
    }
   ],
   "source": [
    "# Use describe to get stats \n",
    "movies.describe()"
   ]
  },
  {
   "cell_type": "markdown",
   "metadata": {
    "collapsed": true
   },
   "source": [
    "** Congratulations, your first database is ready ! ** "
   ]
  },
  {
   "cell_type": "code",
   "execution_count": 13,
   "metadata": {
    "collapsed": false
   },
   "outputs": [
    {
     "data": {
      "text/plain": [
       "pandas.core.series.Series"
      ]
     },
     "execution_count": 13,
     "metadata": {},
     "output_type": "execute_result"
    }
   ],
   "source": [
    "# Extract a specific column (a series in Pandas)\n",
    "only_the_years = movies.year\n",
    "type(only_the_years)"
   ]
  },
  {
   "cell_type": "code",
   "execution_count": 14,
   "metadata": {
    "collapsed": false
   },
   "outputs": [],
   "source": [
    "# Extract a specific set of rows\n",
    "ten_movies = movies[100:110]"
   ]
  },
  {
   "cell_type": "code",
   "execution_count": 15,
   "metadata": {
    "collapsed": false
   },
   "outputs": [
    {
     "data": {
      "text/html": [
       "<div>\n",
       "<table border=\"1\" class=\"dataframe\">\n",
       "  <thead>\n",
       "    <tr style=\"text-align: right;\">\n",
       "      <th></th>\n",
       "      <th>title</th>\n",
       "      <th>year</th>\n",
       "    </tr>\n",
       "  </thead>\n",
       "  <tbody>\n",
       "    <tr>\n",
       "      <th>100</th>\n",
       "      <td>Cone of Silence</td>\n",
       "      <td>1960</td>\n",
       "    </tr>\n",
       "    <tr>\n",
       "      <th>101</th>\n",
       "      <td>Sommerhuset</td>\n",
       "      <td>2008</td>\n",
       "    </tr>\n",
       "    <tr>\n",
       "      <th>102</th>\n",
       "      <td>Conspiracy Theory</td>\n",
       "      <td>1997</td>\n",
       "    </tr>\n",
       "    <tr>\n",
       "      <th>103</th>\n",
       "      <td>Bijeon</td>\n",
       "      <td>1970</td>\n",
       "    </tr>\n",
       "    <tr>\n",
       "      <th>104</th>\n",
       "      <td>World and the Flesh</td>\n",
       "      <td>1932</td>\n",
       "    </tr>\n",
       "    <tr>\n",
       "      <th>105</th>\n",
       "      <td>Grandeur nature</td>\n",
       "      <td>1974</td>\n",
       "    </tr>\n",
       "    <tr>\n",
       "      <th>106</th>\n",
       "      <td>Kimurake no hitobito</td>\n",
       "      <td>1988</td>\n",
       "    </tr>\n",
       "    <tr>\n",
       "      <th>107</th>\n",
       "      <td>Qiu yu can hua</td>\n",
       "      <td>1953</td>\n",
       "    </tr>\n",
       "    <tr>\n",
       "      <th>108</th>\n",
       "      <td>The Strongest Man in the World</td>\n",
       "      <td>1975</td>\n",
       "    </tr>\n",
       "    <tr>\n",
       "      <th>109</th>\n",
       "      <td>Hi no tori</td>\n",
       "      <td>1956</td>\n",
       "    </tr>\n",
       "  </tbody>\n",
       "</table>\n",
       "</div>"
      ],
      "text/plain": [
       "                              title  year\n",
       "100                 Cone of Silence  1960\n",
       "101                     Sommerhuset  2008\n",
       "102               Conspiracy Theory  1997\n",
       "103                          Bijeon  1970\n",
       "104             World and the Flesh  1932\n",
       "105                 Grandeur nature  1974\n",
       "106            Kimurake no hitobito  1988\n",
       "107                  Qiu yu can hua  1953\n",
       "108  The Strongest Man in the World  1975\n",
       "109                      Hi no tori  1956"
      ]
     },
     "execution_count": 15,
     "metadata": {},
     "output_type": "execute_result"
    }
   ],
   "source": [
    "# Let's take a look at these movies\n",
    "ten_movies"
   ]
  },
  {
   "cell_type": "markdown",
   "metadata": {
    "collapsed": true
   },
   "source": [
    "### * We usually don't know the row numbers we want. *\n",
    "\n",
    "** Instead ** :\n",
    "    - Given a condition, extract some specific rows\n",
    "    \n",
    "Set up a ** CONDITIONAL SERIES ** : \n",
    "    - A column with TRUE / FALSE values"
   ]
  },
  {
   "cell_type": "code",
   "execution_count": 16,
   "metadata": {
    "collapsed": false
   },
   "outputs": [
    {
     "data": {
      "text/plain": [
       "100    False\n",
       "101     True\n",
       "102    False\n",
       "103    False\n",
       "104    False\n",
       "105    False\n",
       "106    False\n",
       "107    False\n",
       "108    False\n",
       "109    False\n",
       "Name: year, dtype: bool"
      ]
     },
     "execution_count": 16,
     "metadata": {},
     "output_type": "execute_result"
    }
   ],
   "source": [
    "# Return a series of True / False\n",
    "# Let's get all the movies that released after the year 2000\n",
    "ten_movies.year > 2000"
   ]
  },
  {
   "cell_type": "code",
   "execution_count": 17,
   "metadata": {
    "collapsed": false
   },
   "outputs": [],
   "source": [
    "# Let's give this condition a name\n",
    "recent_movies = ten_movies.year > 2000\n"
   ]
  },
  {
   "cell_type": "code",
   "execution_count": 18,
   "metadata": {
    "collapsed": false
   },
   "outputs": [
    {
     "data": {
      "text/html": [
       "<div>\n",
       "<table border=\"1\" class=\"dataframe\">\n",
       "  <thead>\n",
       "    <tr style=\"text-align: right;\">\n",
       "      <th></th>\n",
       "      <th>title</th>\n",
       "      <th>year</th>\n",
       "    </tr>\n",
       "  </thead>\n",
       "  <tbody>\n",
       "    <tr>\n",
       "      <th>101</th>\n",
       "      <td>Sommerhuset</td>\n",
       "      <td>2008</td>\n",
       "    </tr>\n",
       "  </tbody>\n",
       "</table>\n",
       "</div>"
      ],
      "text/plain": [
       "           title  year\n",
       "101  Sommerhuset  2008"
      ]
     },
     "execution_count": 18,
     "metadata": {},
     "output_type": "execute_result"
    }
   ],
   "source": [
    "# access the movie that satisfies condition_2k\n",
    "ten_movies[recent_movies]"
   ]
  },
  {
   "cell_type": "code",
   "execution_count": 19,
   "metadata": {
    "collapsed": false
   },
   "outputs": [
    {
     "data": {
      "text/html": [
       "<div>\n",
       "<table border=\"1\" class=\"dataframe\">\n",
       "  <thead>\n",
       "    <tr style=\"text-align: right;\">\n",
       "      <th></th>\n",
       "      <th>title</th>\n",
       "      <th>year</th>\n",
       "    </tr>\n",
       "  </thead>\n",
       "  <tbody>\n",
       "    <tr>\n",
       "      <th>101</th>\n",
       "      <td>Sommerhuset</td>\n",
       "      <td>2008</td>\n",
       "    </tr>\n",
       "  </tbody>\n",
       "</table>\n",
       "</div>"
      ],
      "text/plain": [
       "           title  year\n",
       "101  Sommerhuset  2008"
      ]
     },
     "execution_count": 19,
     "metadata": {},
     "output_type": "execute_result"
    }
   ],
   "source": [
    "# now look at the whole command without using the condition intermediate\n",
    "ten_movies[ten_movies.year > 2000]"
   ]
  },
  {
   "cell_type": "code",
   "execution_count": 20,
   "metadata": {
    "collapsed": false
   },
   "outputs": [
    {
     "data": {
      "text/html": [
       "<div>\n",
       "<table border=\"1\" class=\"dataframe\">\n",
       "  <thead>\n",
       "    <tr style=\"text-align: right;\">\n",
       "      <th></th>\n",
       "      <th>title</th>\n",
       "      <th>year</th>\n",
       "    </tr>\n",
       "  </thead>\n",
       "  <tbody>\n",
       "    <tr>\n",
       "      <th>102</th>\n",
       "      <td>Conspiracy Theory</td>\n",
       "      <td>1997</td>\n",
       "    </tr>\n",
       "  </tbody>\n",
       "</table>\n",
       "</div>"
      ],
      "text/plain": [
       "                 title  year\n",
       "102  Conspiracy Theory  1997"
      ]
     },
     "execution_count": 20,
     "metadata": {},
     "output_type": "execute_result"
    }
   ],
   "source": [
    "# try it with title\n",
    "ten_movies[ten_movies.title == \"Conspiracy Theory\"]"
   ]
  },
  {
   "cell_type": "markdown",
   "metadata": {
    "collapsed": true
   },
   "source": [
    "###  Reading a query in plain english\n",
    "\n",
    "** SELECT FROM ** ten_movies  ** WHERE ** ten_movies.title ** IS ** Conspiracy Theory\""
   ]
  },
  {
   "cell_type": "code",
   "execution_count": 21,
   "metadata": {
    "collapsed": false
   },
   "outputs": [],
   "source": [
    "# Chaining queries with & and |\n",
    "# Nineties movies\n",
    "nineties = movies[(movies.year > 1989) & (movies.year < 2000)]\n"
   ]
  },
  {
   "cell_type": "code",
   "execution_count": 22,
   "metadata": {
    "collapsed": false
   },
   "outputs": [
    {
     "data": {
      "text/html": [
       "<div>\n",
       "<table border=\"1\" class=\"dataframe\">\n",
       "  <thead>\n",
       "    <tr style=\"text-align: right;\">\n",
       "      <th></th>\n",
       "      <th>title</th>\n",
       "      <th>year</th>\n",
       "    </tr>\n",
       "  </thead>\n",
       "  <tbody>\n",
       "    <tr>\n",
       "      <th>0</th>\n",
       "      <td>The Rising Son</td>\n",
       "      <td>1990</td>\n",
       "    </tr>\n",
       "    <tr>\n",
       "      <th>3</th>\n",
       "      <td>Crucea de piatra</td>\n",
       "      <td>1993</td>\n",
       "    </tr>\n",
       "    <tr>\n",
       "      <th>12</th>\n",
       "      <td>Charlie's Ear</td>\n",
       "      <td>1992</td>\n",
       "    </tr>\n",
       "    <tr>\n",
       "      <th>14</th>\n",
       "      <td>Poka Makorer Ghar Bosoti</td>\n",
       "      <td>1996</td>\n",
       "    </tr>\n",
       "    <tr>\n",
       "      <th>21</th>\n",
       "      <td>Maa Durga Shakti</td>\n",
       "      <td>1999</td>\n",
       "    </tr>\n",
       "  </tbody>\n",
       "</table>\n",
       "</div>"
      ],
      "text/plain": [
       "                       title  year\n",
       "0             The Rising Son  1990\n",
       "3           Crucea de piatra  1993\n",
       "12             Charlie's Ear  1992\n",
       "14  Poka Makorer Ghar Bosoti  1996\n",
       "21          Maa Durga Shakti  1999"
      ]
     },
     "execution_count": 22,
     "metadata": {},
     "output_type": "execute_result"
    }
   ],
   "source": [
    "nineties.head()"
   ]
  },
  {
   "cell_type": "code",
   "execution_count": 23,
   "metadata": {
    "collapsed": false
   },
   "outputs": [
    {
     "data": {
      "text/html": [
       "<div>\n",
       "<table border=\"1\" class=\"dataframe\">\n",
       "  <thead>\n",
       "    <tr style=\"text-align: right;\">\n",
       "      <th></th>\n",
       "      <th>title</th>\n",
       "      <th>year</th>\n",
       "    </tr>\n",
       "  </thead>\n",
       "  <tbody>\n",
       "    <tr>\n",
       "      <th>0</th>\n",
       "      <td>The Rising Son</td>\n",
       "      <td>1990</td>\n",
       "    </tr>\n",
       "    <tr>\n",
       "      <th>134768</th>\n",
       "      <td>Maechun shidae</td>\n",
       "      <td>1990</td>\n",
       "    </tr>\n",
       "    <tr>\n",
       "      <th>29621</th>\n",
       "      <td>He's Still There</td>\n",
       "      <td>1990</td>\n",
       "    </tr>\n",
       "    <tr>\n",
       "      <th>134677</th>\n",
       "      <td>Krug vtoroy</td>\n",
       "      <td>1990</td>\n",
       "    </tr>\n",
       "    <tr>\n",
       "      <th>29667</th>\n",
       "      <td>Oliyampukal</td>\n",
       "      <td>1990</td>\n",
       "    </tr>\n",
       "  </tbody>\n",
       "</table>\n",
       "</div>"
      ],
      "text/plain": [
       "                   title  year\n",
       "0         The Rising Son  1990\n",
       "134768    Maechun shidae  1990\n",
       "29621   He's Still There  1990\n",
       "134677       Krug vtoroy  1990\n",
       "29667        Oliyampukal  1990"
      ]
     },
     "execution_count": 23,
     "metadata": {},
     "output_type": "execute_result"
    }
   ],
   "source": [
    "# sort these movies by year\n",
    "nineties.sort_values(by = 'year').head()"
   ]
  },
  {
   "cell_type": "markdown",
   "metadata": {},
   "source": [
    "## Functions \n",
    "\n",
    "We often want to manipulate columns or get some output based on their contents.\n",
    "\n",
    "** map ** \n",
    "    - Is a keyword used to apply a function to a column"
   ]
  },
  {
   "cell_type": "code",
   "execution_count": 24,
   "metadata": {
    "collapsed": true
   },
   "outputs": [],
   "source": [
    "# define a small function called \"return_label\" \n",
    "def return_label(yr) :\n",
    "    if yr > 2000 :\n",
    "        return \"RECENT\"\n",
    "    else :\n",
    "        return \"CLASSIC\""
   ]
  },
  {
   "cell_type": "code",
   "execution_count": 25,
   "metadata": {
    "collapsed": false
   },
   "outputs": [
    {
     "data": {
      "text/plain": [
       "100    CLASSIC\n",
       "101     RECENT\n",
       "102    CLASSIC\n",
       "103    CLASSIC\n",
       "104    CLASSIC\n",
       "105    CLASSIC\n",
       "106    CLASSIC\n",
       "107    CLASSIC\n",
       "108    CLASSIC\n",
       "109    CLASSIC\n",
       "Name: year, dtype: object"
      ]
     },
     "execution_count": 25,
     "metadata": {},
     "output_type": "execute_result"
    }
   ],
   "source": [
    "# Apply functions using map\n",
    "ten_movies.year.map(return_label)"
   ]
  },
  {
   "cell_type": "markdown",
   "metadata": {},
   "source": [
    "## Measuring performance \n",
    "\n",
    "** %%time ** \n",
    "    - Lets us time the cell. \n",
    "    - Useful to know how long a process is taking and if it can be improved"
   ]
  },
  {
   "cell_type": "code",
   "execution_count": 26,
   "metadata": {
    "collapsed": false
   },
   "outputs": [
    {
     "name": "stdout",
     "output_type": "stream",
     "text": [
      "CPU times: user 293 µs, sys: 33 µs, total: 326 µs\n",
      "Wall time: 302 µs\n"
     ]
    },
    {
     "data": {
      "text/plain": [
       "100    CLASSIC\n",
       "101     RECENT\n",
       "102    CLASSIC\n",
       "103    CLASSIC\n",
       "104    CLASSIC\n",
       "105    CLASSIC\n",
       "106    CLASSIC\n",
       "107    CLASSIC\n",
       "108    CLASSIC\n",
       "109    CLASSIC\n",
       "Name: year, dtype: object"
      ]
     },
     "execution_count": 26,
     "metadata": {},
     "output_type": "execute_result"
    }
   ],
   "source": [
    "%%time\n",
    "# Apply functions using map\n",
    "ten_movies.year.map(return_label)"
   ]
  },
  {
   "cell_type": "markdown",
   "metadata": {},
   "source": [
    "## Practice exercise \n",
    "    \n",
    "*You're the first ever employee for FlixNet online.* "
   ]
  },
  {
   "cell_type": "markdown",
   "metadata": {},
   "source": [
    "** Task 1 ** : Iron Man has just been released, but Marvel has run into a copyright infringement. \n",
    "    - Are there older movies called \"Iron Man\" ?\n",
    "\n",
    "*How do we answer this question?*\n",
    "    - Set up a query to look for all movies called Iron Man\n",
    "    - Time the query and find out how long it took "
   ]
  },
  {
   "cell_type": "code",
   "execution_count": 27,
   "metadata": {
    "collapsed": false
   },
   "outputs": [
    {
     "name": "stdout",
     "output_type": "stream",
     "text": [
      "CPU times: user 11 ms, sys: 398 µs, total: 11.4 ms\n",
      "Wall time: 11.1 ms\n"
     ]
    },
    {
     "data": {
      "text/html": [
       "<div>\n",
       "<table border=\"1\" class=\"dataframe\">\n",
       "  <thead>\n",
       "    <tr style=\"text-align: right;\">\n",
       "      <th></th>\n",
       "      <th>title</th>\n",
       "      <th>year</th>\n",
       "    </tr>\n",
       "  </thead>\n",
       "  <tbody>\n",
       "    <tr>\n",
       "      <th>10372</th>\n",
       "      <td>Iron Man</td>\n",
       "      <td>2008</td>\n",
       "    </tr>\n",
       "    <tr>\n",
       "      <th>20531</th>\n",
       "      <td>Iron Man</td>\n",
       "      <td>1931</td>\n",
       "    </tr>\n",
       "    <tr>\n",
       "      <th>143702</th>\n",
       "      <td>Iron Man</td>\n",
       "      <td>1951</td>\n",
       "    </tr>\n",
       "  </tbody>\n",
       "</table>\n",
       "</div>"
      ],
      "text/plain": [
       "           title  year\n",
       "10372   Iron Man  2008\n",
       "20531   Iron Man  1931\n",
       "143702  Iron Man  1951"
      ]
     },
     "execution_count": 27,
     "metadata": {},
     "output_type": "execute_result"
    }
   ],
   "source": [
    "%%time\n",
    "# select movies whose title is Iron Man"
   ]
  },
  {
   "cell_type": "code",
   "execution_count": 28,
   "metadata": {
    "collapsed": false
   },
   "outputs": [],
   "source": [
    "# Task 1 practice cell"
   ]
  },
  {
   "cell_type": "markdown",
   "metadata": {
    "collapsed": true
   },
   "source": [
    "** Task 2 ** : Sequel ordering\n",
    "    - Find all the Harry Potter movies ever made\n",
    "    - Sort them by the year of release\n",
    "    \n",
    "*Hint : Use str.startswith(\"Harry Potter\") to find movie titles.*"
   ]
  },
  {
   "cell_type": "code",
   "execution_count": 29,
   "metadata": {
    "collapsed": false
   },
   "outputs": [],
   "source": [
    "# select movies whose title starts with Harry Potter"
   ]
  },
  {
   "cell_type": "code",
   "execution_count": 30,
   "metadata": {
    "collapsed": false
   },
   "outputs": [
    {
     "data": {
      "text/html": [
       "<div>\n",
       "<table border=\"1\" class=\"dataframe\">\n",
       "  <thead>\n",
       "    <tr style=\"text-align: right;\">\n",
       "      <th></th>\n",
       "      <th>title</th>\n",
       "      <th>year</th>\n",
       "    </tr>\n",
       "  </thead>\n",
       "  <tbody>\n",
       "    <tr>\n",
       "      <th>39509</th>\n",
       "      <td>Harry Potter and the Sorcerer's Stone</td>\n",
       "      <td>2001</td>\n",
       "    </tr>\n",
       "    <tr>\n",
       "      <th>49561</th>\n",
       "      <td>Harry Potter and the Chamber of Secrets</td>\n",
       "      <td>2002</td>\n",
       "    </tr>\n",
       "    <tr>\n",
       "      <th>9298</th>\n",
       "      <td>Harry Potter and the Prisoner of Azkaban</td>\n",
       "      <td>2004</td>\n",
       "    </tr>\n",
       "    <tr>\n",
       "      <th>27999</th>\n",
       "      <td>Harry Potter and the Goblet of Fire</td>\n",
       "      <td>2005</td>\n",
       "    </tr>\n",
       "    <tr>\n",
       "      <th>31663</th>\n",
       "      <td>Harry Potter and the Order of the Phoenix</td>\n",
       "      <td>2007</td>\n",
       "    </tr>\n",
       "    <tr>\n",
       "      <th>2594</th>\n",
       "      <td>Harry Potter and the Half-Blood Prince</td>\n",
       "      <td>2009</td>\n",
       "    </tr>\n",
       "    <tr>\n",
       "      <th>199183</th>\n",
       "      <td>Harry Potter and the Deathly Hallows: Part 1</td>\n",
       "      <td>2010</td>\n",
       "    </tr>\n",
       "    <tr>\n",
       "      <th>170497</th>\n",
       "      <td>Harry Potter and the Deathly Hallows: Part 2</td>\n",
       "      <td>2011</td>\n",
       "    </tr>\n",
       "  </tbody>\n",
       "</table>\n",
       "</div>"
      ],
      "text/plain": [
       "                                               title  year\n",
       "39509          Harry Potter and the Sorcerer's Stone  2001\n",
       "49561        Harry Potter and the Chamber of Secrets  2002\n",
       "9298        Harry Potter and the Prisoner of Azkaban  2004\n",
       "27999            Harry Potter and the Goblet of Fire  2005\n",
       "31663      Harry Potter and the Order of the Phoenix  2007\n",
       "2594          Harry Potter and the Half-Blood Prince  2009\n",
       "199183  Harry Potter and the Deathly Hallows: Part 1  2010\n",
       "170497  Harry Potter and the Deathly Hallows: Part 2  2011"
      ]
     },
     "execution_count": 30,
     "metadata": {},
     "output_type": "execute_result"
    }
   ],
   "source": [
    "# Sort by year\n"
   ]
  },
  {
   "cell_type": "code",
   "execution_count": 31,
   "metadata": {
    "collapsed": true
   },
   "outputs": [],
   "source": [
    "# Task 2 practice cell"
   ]
  },
  {
   "cell_type": "markdown",
   "metadata": {
    "collapsed": true
   },
   "source": [
    "** Task 3 ** : Genre identifier - given a set of old movies, identify if any horror movies.\n",
    "    - Define a function called is_horror ()\n",
    "        - If the movie title has the word \"Ghost\", output the title and the word \"HORROR\"\n",
    "    - Apply the function using \"map\" "
   ]
  },
  {
   "cell_type": "code",
   "execution_count": 32,
   "metadata": {
    "collapsed": false
   },
   "outputs": [],
   "source": [
    "fifty_movies = movies[1000:1050]"
   ]
  },
  {
   "cell_type": "code",
   "execution_count": 34,
   "metadata": {
    "collapsed": true
   },
   "outputs": [],
   "source": [
    "# There is a similar function above \n",
    "def is_horror(title) :\n",
    "    if :\n",
    "        return title, \"HORROR\""
   ]
  },
  {
   "cell_type": "code",
   "execution_count": 35,
   "metadata": {
    "collapsed": false
   },
   "outputs": [
    {
     "data": {
      "text/plain": [
       "1000                                 None\n",
       "1001                                 None\n",
       "1002                                 None\n",
       "1003                                 None\n",
       "1004                                 None\n",
       "1005                                 None\n",
       "1006                                 None\n",
       "1007                                 None\n",
       "1008                                 None\n",
       "1009                                 None\n",
       "1010                                 None\n",
       "1011                                 None\n",
       "1012                                 None\n",
       "1013                                 None\n",
       "1014                                 None\n",
       "1015                                 None\n",
       "1016                                 None\n",
       "1017                                 None\n",
       "1018                                 None\n",
       "1019                                 None\n",
       "1020                                 None\n",
       "1021                                 None\n",
       "1022                                 None\n",
       "1023                                 None\n",
       "1024                                 None\n",
       "1025                                 None\n",
       "1026                                 None\n",
       "1027                                 None\n",
       "1028                                 None\n",
       "1029                                 None\n",
       "1030                                 None\n",
       "1031                                 None\n",
       "1032                                 None\n",
       "1033                                 None\n",
       "1034                                 None\n",
       "1035                                 None\n",
       "1036                                 None\n",
       "1037                                 None\n",
       "1038                                 None\n",
       "1039                                 None\n",
       "1040                                 None\n",
       "1041    (The Ghost in the Garret, HORROR)\n",
       "1042                                 None\n",
       "1043                                 None\n",
       "1044                                 None\n",
       "1045                                 None\n",
       "1046                                 None\n",
       "1047                                 None\n",
       "1048                                 None\n",
       "1049                                 None\n",
       "Name: title, dtype: object"
      ]
     },
     "execution_count": 35,
     "metadata": {},
     "output_type": "execute_result"
    }
   ],
   "source": [
    "# map the function"
   ]
  },
  {
   "cell_type": "code",
   "execution_count": 36,
   "metadata": {
    "collapsed": true
   },
   "outputs": [],
   "source": [
    "# Practice cell for Task 3"
   ]
  },
  {
   "cell_type": "markdown",
   "metadata": {
    "collapsed": true
   },
   "source": [
    "## Introduction to Machine Learning\n",
    "\n",
    "### Types of Learning : Unsupervised and Supervised \n",
    "\n",
    "** Unsupervised ** : http://www.naftaliharris.com/blog/visualizing-k-means-clustering/\n",
    "    - Clustering\n",
    "    \n",
    "    - Real life applications from genomics \n",
    "        \n",
    "\n",
    "** Supervised ** : Given data and labels (features?)\n",
    "    - Regression and classification\n",
    "\n",
    "\n",
    "    \n",
    "\n"
   ]
  },
  {
   "cell_type": "markdown",
   "metadata": {
    "collapsed": true
   },
   "source": [
    "## Sklearn overview in 5 easy steps \n",
    "\n",
    "** Step 1 :  Import ** \n",
    "    - an algorithm class from sklearn\n",
    "\n",
    "** Step 2 : Instantiate ** \n",
    "    - a model object from this class\n",
    "\n",
    "** Step 3 : Fit ** \n",
    "    - training data to this model / accuracy\n",
    "\n",
    "** Step 4 : Predict ** \n",
    "    - on some new (test) data \n",
    "\n",
    "** Step 5 : Plot ** \n",
    "    - and visualize your prediction\n"
   ]
  },
  {
   "cell_type": "markdown",
   "metadata": {
    "collapsed": true
   },
   "source": [
    "### We will explore multiple datasets\n",
    "-  The first dataset is unlabeled  \n",
    "-  The second dataset is labeled, second half of workshop"
   ]
  },
  {
   "cell_type": "code",
   "execution_count": 37,
   "metadata": {
    "collapsed": false
   },
   "outputs": [
    {
     "data": {
      "text/plain": [
       "<matplotlib.collections.PathCollection at 0x10ab728d0>"
      ]
     },
     "execution_count": 37,
     "metadata": {},
     "output_type": "execute_result"
    },
    {
     "data": {
      "image/png": "[encoded data removed]",
      "text/plain": [
       "<matplotlib.figure.Figure at 0x1090db650>"
      ]
     },
     "metadata": {},
     "output_type": "display_data"
    }
   ],
   "source": [
    "# This is a bunch of code to generate points \n",
    "# it is NOT important, do NOT focus on this\n",
    "# example from : https://github.com/jakevdp/sklearn_pycon2015\n",
    "from sklearn.datasets.samples_generator import make_blobs\n",
    "X, y = make_blobs(n_samples=300, centers=4,\n",
    "                 random_state=0, cluster_std=0.9)\n",
    "plt.scatter(X[:,0], X[:,1], s=50)\n",
    "\n",
    "\n"
   ]
  },
  {
   "cell_type": "markdown",
   "metadata": {
    "collapsed": true
   },
   "source": [
    "### Now we begin our example\n",
    "    - 5 steps on how to run ML using sklearn\n",
    "    \n",
    "**Object Oriented** \n",
    "\n",
    "** ALGORITHM ** : *k-means clustering* "
   ]
  },
  {
   "cell_type": "code",
   "execution_count": 38,
   "metadata": {
    "collapsed": true
   },
   "outputs": [],
   "source": [
    "# Step 1 : import the class\n",
    "from sklearn.cluster import KMeans"
   ]
  },
  {
   "cell_type": "code",
   "execution_count": 39,
   "metadata": {
    "collapsed": true
   },
   "outputs": [],
   "source": [
    "# Step 2 : instantiate a model object of the class\n",
    "model = KMeans(4)"
   ]
  },
  {
   "cell_type": "code",
   "execution_count": 40,
   "metadata": {
    "collapsed": false
   },
   "outputs": [
    {
     "data": {
      "text/plain": [
       "KMeans(copy_x=True, init='k-means++', max_iter=300, n_clusters=4, n_init=10,\n",
       "    n_jobs=1, precompute_distances='auto', random_state=None, tol=0.0001,\n",
       "    verbose=0)"
      ]
     },
     "execution_count": 40,
     "metadata": {},
     "output_type": "execute_result"
    }
   ],
   "source": [
    "# Step 3 : fit the model to data\n",
    "# Investigate the options\n",
    "model.fit(X)"
   ]
  },
  {
   "cell_type": "code",
   "execution_count": 41,
   "metadata": {
    "collapsed": true
   },
   "outputs": [],
   "source": [
    "# Step 4 : predict the k-means\n",
    "y_kmeans = model.predict(X)"
   ]
  },
  {
   "cell_type": "code",
   "execution_count": 42,
   "metadata": {
    "collapsed": false
   },
   "outputs": [
    {
     "data": {
      "image/png": "[encoded data removed]",
      "text/plain": [
       "<matplotlib.figure.Figure at 0x10b85f610>"
      ]
     },
     "metadata": {},
     "output_type": "display_data"
    }
   ],
   "source": [
    "# Step 5 : plot the result and color it so you can see diff clusters\n",
    "plt.scatter(X[:, 0], X[:, 1], c=y_kmeans, s=50, cmap='rainbow');"
   ]
  },
  {
   "cell_type": "code",
   "execution_count": null,
   "metadata": {
    "collapsed": true
   },
   "outputs": [],
   "source": []
  },
  {
   "cell_type": "markdown",
   "metadata": {
    "collapsed": true
   },
   "source": [
    "** End of Part One **\n"
   ]
  },
  {
   "cell_type": "markdown",
   "metadata": {},
   "source": [
    "###  Resources : \n",
    "\n",
    "** 1. Udacity ML course : ** https://www.youtube.com/watch?v=ICKBWIkfeJ8\n",
    "\n",
    "** 2. PyCon 2015 workshop on ML : ** https://www.youtube.com/watch?v=L7R4HUQ-eQ0\n",
    "\n",
    "** 3. Stanford deep learning : ** http://deeplearning.stanford.edu/tutorial/\n",
    "        \n",
    "** 4. PyCon 2015 workshop on Pandas : ** https://www.youtube.com/watch?v=5JnMutdy6Fw"
   ]
  },
  {
   "cell_type": "code",
   "execution_count": null,
   "metadata": {
    "collapsed": true
   },
   "outputs": [],
   "source": []
  }
 ],
 "metadata": {
  "kernelspec": {
   "display_name": "Python 2",
   "language": "python",
   "name": "python2"
  },
  "language_info": {
   "codemirror_mode": {
    "name": "ipython",
    "version": 2
   },
   "file_extension": ".py",
   "mimetype": "text/x-python",
   "name": "python",
   "nbconvert_exporter": "python",
   "pygments_lexer": "ipython2",
   "version": "2.7.11"
  }
 },
 "nbformat": 4,
 "nbformat_minor": 0
}
